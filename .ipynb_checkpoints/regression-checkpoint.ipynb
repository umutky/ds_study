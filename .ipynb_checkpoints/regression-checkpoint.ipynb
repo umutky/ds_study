{
 "cells": [
  {
   "cell_type": "code",
   "execution_count": 24,
   "id": "9c631a4b-f002-4008-bc36-9f4bfd5b919b",
   "metadata": {},
   "outputs": [
    {
     "name": "stdout",
     "output_type": "stream",
     "text": [
      "Dataset downloaded and saved to /Users/umutkaya/datasets/Advertising.csv\n",
      "\n"
     ]
    },
    {
     "data": {
      "text/html": [
       "<div>\n",
       "<style scoped>\n",
       "    .dataframe tbody tr th:only-of-type {\n",
       "        vertical-align: middle;\n",
       "    }\n",
       "\n",
       "    .dataframe tbody tr th {\n",
       "        vertical-align: top;\n",
       "    }\n",
       "\n",
       "    .dataframe thead th {\n",
       "        text-align: right;\n",
       "    }\n",
       "</style>\n",
       "<table border=\"1\" class=\"dataframe\">\n",
       "  <thead>\n",
       "    <tr style=\"text-align: right;\">\n",
       "      <th></th>\n",
       "      <th>TV</th>\n",
       "      <th>radio</th>\n",
       "      <th>newspaper</th>\n",
       "      <th>sales</th>\n",
       "    </tr>\n",
       "  </thead>\n",
       "  <tbody>\n",
       "    <tr>\n",
       "      <th>1</th>\n",
       "      <td>230.1</td>\n",
       "      <td>37.8</td>\n",
       "      <td>69.2</td>\n",
       "      <td>22.1</td>\n",
       "    </tr>\n",
       "    <tr>\n",
       "      <th>2</th>\n",
       "      <td>44.5</td>\n",
       "      <td>39.3</td>\n",
       "      <td>45.1</td>\n",
       "      <td>10.4</td>\n",
       "    </tr>\n",
       "    <tr>\n",
       "      <th>3</th>\n",
       "      <td>17.2</td>\n",
       "      <td>45.9</td>\n",
       "      <td>69.3</td>\n",
       "      <td>9.3</td>\n",
       "    </tr>\n",
       "    <tr>\n",
       "      <th>4</th>\n",
       "      <td>151.5</td>\n",
       "      <td>41.3</td>\n",
       "      <td>58.5</td>\n",
       "      <td>18.5</td>\n",
       "    </tr>\n",
       "    <tr>\n",
       "      <th>5</th>\n",
       "      <td>180.8</td>\n",
       "      <td>10.8</td>\n",
       "      <td>58.4</td>\n",
       "      <td>12.9</td>\n",
       "    </tr>\n",
       "  </tbody>\n",
       "</table>\n",
       "</div>"
      ],
      "text/plain": [
       "      TV  radio  newspaper  sales\n",
       "1  230.1   37.8       69.2   22.1\n",
       "2   44.5   39.3       45.1   10.4\n",
       "3   17.2   45.9       69.3    9.3\n",
       "4  151.5   41.3       58.5   18.5\n",
       "5  180.8   10.8       58.4   12.9"
      ]
     },
     "execution_count": 24,
     "metadata": {},
     "output_type": "execute_result"
    }
   ],
   "source": [
    "import pandas as pd\n",
    "import os\n",
    "import numpy as np\n",
    "\n",
    "# URL of the dataset\n",
    "url = \"https://www.statlearning.com/s/Advertising.csv\"\n",
    "\n",
    "# Path to the datasets folder (adjust this to your actual folder location)\n",
    "datasets_folder = os.path.expanduser(\"~/datasets\")\n",
    "\n",
    "# Create the folder if it doesn't exist\n",
    "# os.makedirs(datasets_folder, exist_ok=True)\n",
    "\n",
    "# File path to save the dataset\n",
    "file_path = os.path.join(datasets_folder, \"Advertising.csv\")\n",
    "\n",
    "# Download the dataset and save it to the specified folder\n",
    "print(f\"Dataset downloaded and saved to {file_path}\\n\")\n",
    "\n",
    "advertising = pd.read_csv(url, index_col=0)\n",
    "advertising.head()"
   ]
  },
  {
   "cell_type": "markdown",
   "id": "7632a9b3-8e27-4858-9cc3-5c7583d1f892",
   "metadata": {},
   "source": [
    "## Is there a relationship between sales and advertising budget ?\n"
   ]
  },
  {
   "cell_type": "code",
   "execution_count": 13,
   "id": "672b7001-8f4e-4a1a-830a-7c21d820b82c",
   "metadata": {},
   "outputs": [
    {
     "data": {
      "text/plain": [
       "sales        1.000000\n",
       "TV           0.782224\n",
       "radio        0.576223\n",
       "newspaper    0.228299\n",
       "Name: sales, dtype: float64"
      ]
     },
     "execution_count": 13,
     "metadata": {},
     "output_type": "execute_result"
    }
   ],
   "source": [
    "advertising.corr()['sales'].sort_values(ascending=False)"
   ]
  },
  {
   "cell_type": "code",
   "execution_count": 29,
   "id": "8f841722-3791-4a08-ab10-c41ac8459a55",
   "metadata": {},
   "outputs": [
    {
     "name": "stdout",
     "output_type": "stream",
     "text": [
      "R2 score  0.8972106381789522\n",
      "rmse 1.6685701407225697\n",
      "F-statistic:  570.2707036590946\n",
      "p-value for F-statistic:  1.1102230246251565e-16\n"
     ]
    }
   ],
   "source": [
    "from sklearn.linear_model import LinearRegression\n",
    "from sklearn.metrics import mean_squared_error\n",
    "from scipy import stats\n",
    "\n",
    "X, y = advertising.drop('sales', axis=1).values, advertising['sales'].values\n",
    "\n",
    "lr = LinearRegression()\n",
    "lr.fit(X, y)\n",
    "print('R2 score ',lr.score(X, y))\n",
    "print('rmse', np.sqrt(mean_squared_error(y, lr.predict(X))))\n",
    "\n",
    "# F-statistic hesaplama\n",
    "n = len(y)  # Veri setindeki gözlem sayısı\n",
    "k = X.shape[1]  # Bağımsız değişkenlerin sayısı\n",
    "r2 = lr.score(X, y)\n",
    "# F-statistic formülü\n",
    "f_statistic = (r2 / (1 - r2)) * ((n - k - 1) / k)\n",
    "print('F-statistic: ', f_statistic)\n",
    "\n",
    "# Alternatif olarak, p-değerini de elde edebiliriz\n",
    "f_p_value = 1 - stats.f.cdf(f_statistic, k, n - k - 1)\n",
    "print('p-value for F-statistic: ', f_p_value)"
   ]
  },
  {
   "cell_type": "markdown",
   "id": "0a56aeb1-898d-4290-8c11-edc6bc05a1a5",
   "metadata": {},
   "source": [
    "**F-Statistic**\n",
    "\n",
    "Null hipotezi (H₀): Bağımsız değişkenlerin hedef değişken üzerindeki etkisi yoktur. Yani, bağımsız değişkenlerin hepsinin regresyon katsayıları sıfırdır.\n",
    "\n",
    "Alternatif hipotez (H₁): En az bir bağımsız değişkenin hedef değişken üzerindeki etkisi vardır (en az bir katsayı sıfır değildir).\n",
    "\n",
    "F-statistic, modelin genel anlamda açıklayıcı olup olmadığını test eder. Eğer F-statistic değeri yüksekse, bu bağımsız değişkenlerin toplu olarak hedef değişkeni açıklamada anlamlı olduğu anlamına gelir. Bu durumda, null hipotezi reddedilir ve modelin anlamlı olduğu söylenir."
   ]
  },
  {
   "cell_type": "code",
   "execution_count": null,
   "id": "e45ab5ff-810f-47d8-9a1e-8104b904bb1d",
   "metadata": {},
   "outputs": [],
   "source": []
  }
 ],
 "metadata": {
  "kernelspec": {
   "display_name": "Python 3 (ipykernel)",
   "language": "python",
   "name": "python3"
  },
  "language_info": {
   "codemirror_mode": {
    "name": "ipython",
    "version": 3
   },
   "file_extension": ".py",
   "mimetype": "text/x-python",
   "name": "python",
   "nbconvert_exporter": "python",
   "pygments_lexer": "ipython3",
   "version": "3.12.5"
  }
 },
 "nbformat": 4,
 "nbformat_minor": 5
}
